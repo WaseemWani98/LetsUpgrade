{
  "nbformat": 4,
  "nbformat_minor": 0,
  "metadata": {
    "colab": {
      "name": "Simple Interest Calculator",
      "provenance": []
    },
    "kernelspec": {
      "name": "python3",
      "display_name": "Python 3"
    },
    "language_info": {
      "name": "python"
    }
  },
  "cells": [
    {
      "cell_type": "markdown",
      "metadata": {
        "id": "wINPwVK1NEu8"
      },
      "source": [
        "# **Formula for calculating Simple Interest:**\n",
        "**`S.I = (P x R x T) / 100, where `**\n",
        "- **P = Principal or the Initial Amount,**\n",
        "- **R = rate of Interest,**\n",
        "- **T = Time in Years**  "
      ]
    },
    {
      "cell_type": "code",
      "metadata": {
        "colab": {
          "base_uri": "https://localhost:8080/"
        },
        "id": "Rq6fVPFnPEzk",
        "outputId": "8a0c9d57-230e-4697-d977-f9673eb6d87c"
      },
      "source": [
        "p = int(input('Enter the principal: '))\n",
        "r = float(input('Enter the rate of interest: '))\n",
        "t = int(input('Enter the time in years: '))\n",
        "si = (p*r*t)/100\n",
        "print('Simple Interest = ', si)"
      ],
      "execution_count": 1,
      "outputs": [
        {
          "output_type": "stream",
          "name": "stdout",
          "text": [
            "Enter the principal: 13554\n",
            "Enter the rate of interest: 4\n",
            "Enter the time in years: 2\n",
            "Simple Interest =  1084.32\n"
          ]
        }
      ]
    }
  ]
}